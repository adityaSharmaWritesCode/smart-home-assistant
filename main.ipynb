{
 "cells": [
  {
   "cell_type": "markdown",
   "id": "7f2a0fd1",
   "metadata": {},
   "source": [
    "<h2>Problem Statement : \n",
    "\n",
    "Make a Smart Home Assistant, similar to Alexa, which will be capable of turning on and off lights based on the voice commands given by the user. This will be handled by an LLM gathering voice inputs, and using langgraph to ensure the network structure of the house.\n",
    "<br>#PART 1 : \"What should I wear today?\"\n",
    "\n",
    "\n",
    "<br>#PART 2 : Full Smart home\n",
    "\n",
    "\n",
    "</h2>"
   ]
  },
  {
   "cell_type": "markdown",
   "id": "37da6d31",
   "metadata": {},
   "source": [
    "<h3>Python playbook"
   ]
  },
  {
   "cell_type": "code",
   "execution_count": null,
   "id": "aea8cde9",
   "metadata": {},
   "outputs": [],
   "source": []
  },
  {
   "cell_type": "markdown",
   "id": "252b0dd6",
   "metadata": {},
   "source": [
    "<h4> 1. Figuring out how to make speech-to-text work"
   ]
  },
  {
   "cell_type": "code",
   "execution_count": null,
   "id": "69aaf19d",
   "metadata": {},
   "outputs": [],
   "source": [
    "# Python program to translate\n",
    "# speech to text and text to speech\n",
    "\n",
    "\n",
    "import speech_recognition as sr\n",
    "import pyttsx3 \n",
    "\n",
    "# Initialize the recognizer \n",
    "r = sr.Recognizer() \n",
    "\n",
    "# Function to convert text to speech\n",
    "def SpeakText(command):\n",
    "    \n",
    "    # Initialize the engine\n",
    "    engine = pyttsx3.init()\n",
    "    engine.say(command) \n",
    "    engine.runAndWait()\n",
    "    \n",
    "    \n",
    "# Loop infinitely for user to speak\n",
    "\n",
    "while(1):    \n",
    "    try:\n",
    "        \n",
    "        # use the microphone as source for input.\n",
    "        with sr.Microphone() as source2:\n",
    "            \n",
    "            # wait for a second to let the recognizer adjust the energy threshold based on the surrounding noise level \n",
    "            r.adjust_for_ambient_noise(source2, duration=0.2)\n",
    "            \n",
    "            #listens for the user's input \n",
    "            audio2 = r.listen(source2)\n",
    "            \n",
    "            # Using google to recognize audio\n",
    "            MyText = r.recognize_google(audio2)\n",
    "            MyText = MyText.lower()\n",
    "\n",
    "            print(\"Did you say \", MyText)\n",
    "            SpeakText(MyText)\n",
    "            \n",
    "    except sr.RequestError as e:\n",
    "        print(\"Could not request results; {0}\".format(e))\n",
    "        \n",
    "    except sr.UnknownValueError:\n",
    "        print(\"unknown error occurred\")\n"
   ]
  },
  {
   "cell_type": "markdown",
   "id": "069fb7e0",
   "metadata": {},
   "source": [
    "<h4>2. That was surprisingly quick. Now lets make an agent. </h4>\n",
    "<p>The main thing I want to do right now is build a really simple agent, which only has the \"Start\", \"Agent\" and \"Output\" state. The Agent will take in the user's input as speech, and give its own response in an audio output"
   ]
  },
  {
   "cell_type": "code",
   "execution_count": 5,
   "id": "6aa09590",
   "metadata": {},
   "outputs": [
    {
     "data": {
      "image/png": "[encoded data removed]",
      "text/plain": [
       "<IPython.core.display.Image object>"
      ]
     },
     "metadata": {},
     "output_type": "display_data"
    }
   ],
   "source": [
    "from typing import TypedDict, List\n",
    "from langchain_ollama import ChatOllama\n",
    "from langchain_core.messages import HumanMessage\n",
    "from langgraph.graph import START, END, StateGraph\n",
    "\n",
    "class AgentState(TypedDict):\n",
    "    messages: List[HumanMessage]\n",
    "\n",
    "llm = ChatOllama(model=\"qwen2.5:0.5b\")\n",
    "\n",
    "def process_node(state: AgentState) -> AgentState:\n",
    "    \"\"\"This node simply sends the user input as a human message to chat ollama llm, and prints its response without recording it in the state\"\"\"\n",
    "    response = llm.invoke(state[\"messages\"])\n",
    "    print(\"\\nAI: \" + response.content)\n",
    "    return state\n",
    "\n",
    "graph = StateGraph(AgentState)\n",
    "graph.add_node(\"Agent\", process_node)\n",
    "graph.add_edge(START, \"Agent\")\n",
    "graph.add_edge(\"Agent\", END)\n",
    "\n",
    "app = graph.compile()\n",
    "from IPython.display import Image, display\n",
    "display(Image(app.get_graph().draw_mermaid_png()))"
   ]
  },
  {
   "cell_type": "code",
   "execution_count": 14,
   "id": "cc454f40",
   "metadata": {},
   "outputs": [],
   "source": [
    "conversation_history = []\n",
    "\n",
    "def get_voice_input():\n",
    "    try:\n",
    "        \n",
    "        # use the microphone as source for input.\n",
    "        with sr.Microphone() as source2:\n",
    "            \n",
    "            # wait for a second to let the recognizer adjust the energy threshold based on the surrounding noise level \n",
    "            r.adjust_for_ambient_noise(source2, duration=0.2)\n",
    "            \n",
    "            #listens for the user's input \n",
    "            audio2 = r.listen(source2)\n",
    "            \n",
    "            # Using google to recognize audio\n",
    "            user_input = r.recognize_google(audio2)\n",
    "            user_input = user_input.lower()\n",
    "            \n",
    "    except sr.RequestError as e:\n",
    "        print(\"Could not request results; {0}\".format(e))\n",
    "        \n",
    "    except sr.UnknownValueError:\n",
    "        print(\"unknown error occurred\")\n",
    "\n",
    "    return user_input\n",
    "\n",
    "command =  get_voice_input()\n",
    "\n",
    "while command != 'exit game':\n",
    "     \n",
    "        print(\"Human: \", command)\n",
    "        conversation_history.append(HumanMessage(content=command))\n",
    "        AiResponse = app.invoke({\"messages\": conversation_history})\n",
    "        conversation_history = AiResponse[\"messages\"]\n",
    "        #SpeakText(AiResponse)\n",
    "        command = get_voice_input()"
   ]
  },
  {
   "cell_type": "code",
   "execution_count": null,
   "id": "c76627dd",
   "metadata": {},
   "outputs": [],
   "source": []
  }
 ],
 "metadata": {
  "kernelspec": {
   "display_name": "Python 3",
   "language": "python",
   "name": "python3"
  },
  "language_info": {
   "codemirror_mode": {
    "name": "ipython",
    "version": 3
   },
   "file_extension": ".py",
   "mimetype": "text/x-python",
   "name": "python",
   "nbconvert_exporter": "python",
   "pygments_lexer": "ipython3",
   "version": "3.13.3"
  }
 },
 "nbformat": 4,
 "nbformat_minor": 5
}
